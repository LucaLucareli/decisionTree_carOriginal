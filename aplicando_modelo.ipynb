{
 "cells": [
  {
   "cell_type": "code",
   "execution_count": null,
   "metadata": {},
   "outputs": [],
   "source": [
    "import pickle\n",
    "import pandas as pd"
   ]
  },
  {
   "cell_type": "code",
   "execution_count": null,
   "metadata": {},
   "outputs": [],
   "source": [
    "with open('car_modelo.pkl', 'rb') as f:\n",
    "    loaded_model = pickle.load(f)\n",
    "\n",
    "with open('preprocessador.pkl', 'rb') as f:\n",
    "    preprocessador_model = pickle.load(f)"
   ]
  },
  {
   "cell_type": "code",
   "execution_count": null,
   "metadata": {},
   "outputs": [],
   "source": [
    "new_row = ['vhigh', 'vhigh', '2', '2', 'small', 'low']\n",
    "new_row_df = pd.DataFrame([new_row], columns=['compra','manutencao','portas','pessoas','porta-malas','seguranca'])\n",
    "\n",
    "try:\n",
    "    transformed_array = preprocessador_model.transform(new_row_df)\n",
    "    \n",
    "    new_row_transformed = pd.DataFrame(transformed_array)\n",
    "    print(\"Linha transformada\")\n",
    "\n",
    "except Exception as e:\n",
    "    print(f\"Erro durante a transformação: {e}\")"
   ]
  },
  {
   "cell_type": "code",
   "execution_count": null,
   "metadata": {},
   "outputs": [],
   "source": [
    "loaded_model.predict(new_row_transformed)"
   ]
  }
 ],
 "metadata": {
  "language_info": {
   "name": "python"
  }
 },
 "nbformat": 4,
 "nbformat_minor": 2
}
